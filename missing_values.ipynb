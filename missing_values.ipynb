{
 "cells": [
  {
   "cell_type": "markdown",
   "metadata": {},
   "source": [
    "### Set up env"
   ]
  },
  {
   "cell_type": "code",
   "execution_count": 17,
   "metadata": {
    "tags": []
   },
   "outputs": [],
   "source": [
    "import pandas as pd\n",
    "from sklearn.ensemble import RandomForestRegressor\n",
    "from sklearn.metrics import mean_absolute_error\n",
    "from sklearn.model_selection import train_test_split\n",
    "\n",
    "# load data\n",
    "data = pd.read_csv('data\\melb_data.csv')\n",
    "melb_predictors = data.drop(['Price'], axis=1)\n",
    "# drop these non-numerical columns\n",
    "X = melb_predictors.select_dtypes(exclude=['object'])\n",
    "y = data.Price\n",
    "train_X, test_X, train_y, test_y = train_test_split(X, y, train_size=0.8,test_size=0.2)\n",
    "\n",
    "def score_dataset(train_X, test_X, train_y, test_y):\n",
    "    model = RandomForestRegressor(random_state=0)\n",
    "    model.fit(train_X,train_y)\n",
    "    p_val = model.predict(test_X)\n",
    "    mae = mean_absolute_error(test_y,p_val)\n",
    "    return mae"
   ]
  },
  {
   "cell_type": "markdown",
   "metadata": {},
   "source": [
    "### Apporach 1: Drop columns with missing values"
   ]
  },
  {
   "cell_type": "code",
   "execution_count": 19,
   "metadata": {
    "tags": []
   },
   "outputs": [
    {
     "output_type": "execute_result",
     "data": {
      "text/plain": "181465.20151319634"
     },
     "metadata": {},
     "execution_count": 19
    }
   ],
   "source": [
    "missing_cols = [col for col in train_X.columns if train_X[col].isnull().any()]\n",
    "reduced_train_X = train_X.drop(missing_cols,axis=1)\n",
    "reduced_test_X = test_X.drop(missing_cols,axis=1)\n",
    "score_dataset(reduced_train_X, reduced_test_X, train_y, test_y)"
   ]
  },
  {
   "cell_type": "markdown",
   "metadata": {},
   "source": [
    "### Approach 2: Imputation"
   ]
  },
  {
   "cell_type": "code",
   "execution_count": 22,
   "metadata": {},
   "outputs": [
    {
     "output_type": "execute_result",
     "data": {
      "text/plain": "178646.7845846483"
     },
     "metadata": {},
     "execution_count": 22
    }
   ],
   "source": [
    "from sklearn.impute import SimpleImputer\n",
    "\n",
    "imputer = SimpleImputer()\n",
    "imputed_train_X = pd.DataFrame(imputer.fit_transform(train_X))\n",
    "imputed_test_X = pd.DataFrame(imputer.fit_transform(test_X))\n",
    "\n",
    "# Imputation removed column names; put them back\n",
    "imputed_train_X.columns = train_X.columns\n",
    "imputed_test_X.columns = test_X.columns\n",
    "\n",
    "score_dataset(imputed_train_X,imputed_test_X,train_y,test_y)"
   ]
  },
  {
   "cell_type": "markdown",
   "metadata": {},
   "source": [
    "### Approach 3: An Extension to Imputation"
   ]
  },
  {
   "cell_type": "code",
   "execution_count": 23,
   "metadata": {},
   "outputs": [
    {
     "output_type": "execute_result",
     "data": {
      "text/plain": "177862.38795076797"
     },
     "metadata": {},
     "execution_count": 23
    }
   ],
   "source": [
    "train_X_backup = train_X.copy()\n",
    "test_X_backup = test_X.copy()\n",
    "\n",
    "for col in missing_cols:\n",
    "    train_X_backup[col+'_missing'] = train_X_backup[col].isnull()\n",
    "    test_X_backup[col+'_missing'] = test_X_backup[col].isnull()\n",
    "\n",
    "imputer = SimpleImputer()\n",
    "imputed_train_X = pd.DataFrame(imputer.fit_transform(train_X_backup))\n",
    "imputed_test_X = pd.DataFrame(imputer.fit_transform(test_X_backup))\n",
    "\n",
    "# Imputation removed column names; put them back\n",
    "imputed_train_X.columns = train_X_backup.columns\n",
    "imputed_test_X.columns = test_X_backup.columns\n",
    "\n",
    "score_dataset(imputed_train_X,imputed_test_X,train_y,test_y)"
   ]
  },
  {
   "cell_type": "markdown",
   "metadata": {},
   "source": [
    "### Print the missing rows info"
   ]
  },
  {
   "cell_type": "code",
   "execution_count": 31,
   "metadata": {
    "tags": []
   },
   "outputs": [
    {
     "output_type": "stream",
     "name": "stdout",
     "text": "(10864, 12)\nCar               48\nBuildingArea    5215\nYearBuilt       4349\ndtype: int64\n"
    }
   ],
   "source": [
    "print(train_X.shape)\n",
    "missing_val_count_by_column = train_X.isnull().sum()\n",
    "print(missing_val_count_by_column[missing_val_count_by_column>0])"
   ]
  }
 ],
 "metadata": {
  "language_info": {
   "codemirror_mode": {
    "name": "ipython",
    "version": 3
   },
   "file_extension": ".py",
   "mimetype": "text/x-python",
   "name": "python",
   "nbconvert_exporter": "python",
   "pygments_lexer": "ipython3",
   "version": "3.8.3-final"
  },
  "orig_nbformat": 2,
  "kernelspec": {
   "name": "python38364bit1249129cc83e44109488de87e2c7875b",
   "display_name": "Python 3.8.3 64-bit"
  }
 },
 "nbformat": 4,
 "nbformat_minor": 2
}