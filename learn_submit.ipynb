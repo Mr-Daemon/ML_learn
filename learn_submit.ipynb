{
 "cells": [
  {
   "cell_type": "code",
   "execution_count": null,
   "metadata": {
    "collapsed": true
   },
   "outputs": [],
   "source": [
    "# setup\n",
    "import pandas as pd\n",
    "X_full = pd.read_csv('data/train.csv')\n",
    "X_test_full = pd.read_csv('data/test.csv')\n",
    "X_full.columns"
   ]
  },
  {
   "cell_type": "markdown",
   "source": [
    "### Step 1: train a optimal model"
   ],
   "metadata": {
    "collapsed": false,
    "pycharm": {
     "name": "#%% md\n"
    }
   }
  },
  {
   "cell_type": "code",
   "execution_count": 6,
   "outputs": [
    {
     "output_type": "stream",
     "name": "stdout",
     "text": "28931.02896325497\n"
    }
   ],
   "source": [
    "y = X_full.SalePrice\n",
    "features = ['LotArea','1stFlrSF','2ndFlrSF','FullBath','BedroomAbvGr']\n",
    "X = X_full[features].copy()\n",
    "X_test = X_test_full[features]\n",
    "\n",
    "from sklearn.model_selection import train_test_split\n",
    "\n",
    "X_train, X_valid, y_train, y_valid = train_test_split(X,y,train_size=0.8,test_size=0.2,random_state=0)\n",
    "\n",
    "from sklearn.ensemble import RandomForestRegressor\n",
    "\n",
    "model = RandomForestRegressor(n_estimators=100,min_samples_split=5,max_leaf_nodes=200)\n",
    "model.fit(X_train,y_train)\n",
    "p_val = model.predict(X_valid)\n",
    "\n",
    "from sklearn.metrics import mean_absolute_error\n",
    "\n",
    "mae = mean_absolute_error(y_valid,p_val)\n",
    "print(mae)"
   ],
   "metadata": {
    "collapsed": false,
    "pycharm": {
     "name": "#%%\n"
    },
    "tags": []
   }
  },
  {
   "cell_type": "markdown",
   "source": [
    "### Step 2: Generate the test predictions"
   ],
   "metadata": {
    "collapsed": false,
    "pycharm": {
     "name": "#%% md\n"
    }
   }
  },
  {
   "cell_type": "code",
   "execution_count": null,
   "outputs": [],
   "source": [
    "model.fit(X,y)\n",
    "prediction = model.predict(X_test)\n",
    "output = pd.DataFrame({\n",
    "    'Id': X_test.index,\n",
    "    'SalePrice': prediction\n",
    "})\n",
    "output.to_csv('submission.csv',index=False)\n"
   ],
   "metadata": {
    "collapsed": false,
    "pycharm": {
     "name": "#%%\n"
    }
   }
  }
 ],
 "metadata": {
  "kernelspec": {
   "display_name": "Python 3",
   "language": "python",
   "name": "python3"
  },
  "language_info": {
   "codemirror_mode": {
    "name": "ipython",
    "version": 2
   },
   "file_extension": ".py",
   "mimetype": "text/x-python",
   "name": "python",
   "nbconvert_exporter": "python",
   "pygments_lexer": "ipython2",
   "version": "3.8.3-final"
  }
 },
 "nbformat": 4,
 "nbformat_minor": 0
}